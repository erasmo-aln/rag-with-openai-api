{
 "cells": [
  {
   "cell_type": "code",
   "execution_count": 1,
   "metadata": {},
   "outputs": [],
   "source": [
    "import os\n",
    "import glob\n",
    "import fitz\n",
    "import chromadb\n",
    "import dotenv\n",
    "from docx import Document\n",
    "from pptx import Presentation\n",
    "from langchain_openai import OpenAIEmbeddings\n",
    "from langchain.text_splitter import RecursiveCharacterTextSplitter"
   ]
  },
  {
   "cell_type": "code",
   "execution_count": 19,
   "metadata": {},
   "outputs": [],
   "source": [
    "def extract_text_from_pdf(pdf_path):\n",
    "    doc = fitz.open(pdf_path)\n",
    "    text = \"\\n\".join(page.get_text(\"text\") for page in doc)\n",
    "    return text.strip()\n",
    "\n",
    "\n",
    "# Function to extract text from DOCX\n",
    "def extract_text_from_docx(docx_path):\n",
    "    doc = Document(docx_path)\n",
    "    text = \"\\n\".join([para.text for para in doc.paragraphs]).strip()\n",
    "    return text\n",
    "\n",
    "\n",
    "def extract_text_from_pptx(pptx_path):\n",
    "    prs = Presentation(pptx_path)\n",
    "    slides = []\n",
    "    for i, slide in enumerate(prs.slides):\n",
    "        slide_text = []\n",
    "        for shape in slide.shapes:\n",
    "            if hasattr(shape, \"text\"):\n",
    "                slide_text.append(shape.text)\n",
    "        slides.append(\"\\n\".join(slide_text).strip())\n",
    "    return slides  # List of slide texts (1 per slide)"
   ]
  },
  {
   "cell_type": "code",
   "execution_count": 24,
   "metadata": {},
   "outputs": [],
   "source": [
    "# pptx_path = '../files/Consultores Datarisk.pptx'\n",
    "# print(extract_text_from_pptx(pptx_path)[1])"
   ]
  },
  {
   "cell_type": "code",
   "execution_count": 23,
   "metadata": {},
   "outputs": [],
   "source": [
    "# pptx_path = '../files/Requerimento Tecnico Maestro.pdf'\n",
    "# print(extract_text_from_pdf(pptx_path))"
   ]
  },
  {
   "cell_type": "code",
   "execution_count": 22,
   "metadata": {},
   "outputs": [],
   "source": [
    "# pptx_path = '../files/Modelo CDC Digital 2023 - Com Histórico - Documentação.docx'\n",
    "# print(extract_text_from_docx(pptx_path))"
   ]
  },
  {
   "cell_type": "code",
   "execution_count": null,
   "metadata": {},
   "outputs": [],
   "source": []
  }
 ],
 "metadata": {
  "kernelspec": {
   "display_name": ".venv",
   "language": "python",
   "name": "python3"
  },
  "language_info": {
   "codemirror_mode": {
    "name": "ipython",
    "version": 3
   },
   "file_extension": ".py",
   "mimetype": "text/x-python",
   "name": "python",
   "nbconvert_exporter": "python",
   "pygments_lexer": "ipython3",
   "version": "3.9.13"
  }
 },
 "nbformat": 4,
 "nbformat_minor": 2
}
